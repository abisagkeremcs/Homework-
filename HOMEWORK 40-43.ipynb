{
 "cells": [
  {
   "cell_type": "markdown",
   "metadata": {},
   "source": [
    "# # Exercise 40: Modules, Classes, and Objects"
   ]
  },
  {
   "cell_type": "code",
   "execution_count": 6,
   "metadata": {},
   "outputs": [
    {
     "name": "stdout",
     "output_type": "stream",
     "text": [
      "El promedio de Espacio muestral con 9 elementos es 77.111111.\n"
     ]
    }
   ],
   "source": [
    "titulo = \"Espacio muestral\"\n",
    "datos = (76, 81, 75, 77, 80, 75, 76, 79, 75)\n",
    "\n",
    "def promedio(encabezado, muestra):\n",
    "      \n",
    "    print(\"El promedio de %s con %d elementos es %f.\" % (titulo, len(muestra), sum(muestra) / len(muestra)))\n",
    "\n",
    "promedio(titulo, datos)\n",
    "\n",
    "## MAESTRO, ESTE EJEMPLO NO VENIA EN EL LIBRO, LO COPIE DE UNA PAGINA DE INTERNET,disculpemeeee"
   ]
  },
  {
   "cell_type": "code",
   "execution_count": 2,
   "metadata": {},
   "outputs": [
    {
     "ename": "SyntaxError",
     "evalue": "invalid syntax (<ipython-input-2-eb2abcc3612e>, line 1)",
     "output_type": "error",
     "traceback": [
      "\u001b[1;36m  File \u001b[1;32m\"<ipython-input-2-eb2abcc3612e>\"\u001b[1;36m, line \u001b[1;32m1\u001b[0m\n\u001b[1;33m    1 class Map(object):\u001b[0m\n\u001b[1;37m          ^\u001b[0m\n\u001b[1;31mSyntaxError\u001b[0m\u001b[1;31m:\u001b[0m invalid syntax\n"
     ]
    }
   ],
   "source": [
    "1 class Map(object):\n",
    "2\n",
    "3 scenes = {\n",
    "4 'central_corridor': CentralCorridor(),\n",
    "5 'laser_weapon_armory': LaserWeaponArmory(),\n",
    "6 'the_bridge': TheBridge(),\n",
    "7 'escape_pod': EscapePod(),\n",
    "8 'death': Death(),\n",
    "9 'finished': Finished(),\n",
    "10 }\n",
    "11\n",
    "12 def __init__(self, start_scene):\n",
    "    \n",
    "    self.start_scene = start_scene\n",
    "14\n",
    "15 def next_scene(self, scene_name):\n",
    "16 val = Map.scenes.get(scene_name)\n",
    "17 return val\n",
    "18\n",
    "19 def opening_scene(self):\n",
    "20 return self.next_scene(self.start_scene)"
   ]
  },
  {
   "cell_type": "markdown",
   "metadata": {},
   "source": [
    "# # exercise 41: Learning to Speak Object-Oriented"
   ]
  },
  {
   "cell_type": "code",
   "execution_count": null,
   "metadata": {},
   "outputs": [],
   "source": [
    "class Tell Python to make a new type of thing.\n",
    "object Two meanings: the most basic type of thing, and any instance of some thing.\n",
    "instance What you get when you tell Python to create a class.\n",
    "def How you define a function inside a class.\n",
    "self Inside the functions in a class, self is a variable for the instance/object being accessed.\n",
    "inheritance The concept that one class can inherit traits from another class, much like you and your\n",
    "parents.\n",
    "composition The concept that a class can be composed of other classes as parts, much like how a car has\n",
    "wheels.\n",
    "attribute A property classes have that are from composition and are usually variables.\n",
    "is-a A phrase to say that something inherits from another, as in a ”salmon” is-a ”fish.”\n",
    "has-a A phrase to say that something is composed of other things or has a trait, as in ”a salmon has-a\n",
    "mouth.”\n",
    "\n",
    "# i think this is just to know about some key words"
   ]
  },
  {
   "cell_type": "markdown",
   "metadata": {},
   "source": [
    "# # Exercise 42: Is-A, Has-A, Objects, and Classes"
   ]
  },
  {
   "cell_type": "code",
   "execution_count": 7,
   "metadata": {},
   "outputs": [
    {
     "name": "stdout",
     "output_type": "stream",
     "text": [
      "After local assignment: test spam\n",
      "After nonlocal assignment: nonlocal spam\n",
      "After global assignment: nonlocal spam\n",
      "In global scope: global spam\n"
     ]
    }
   ],
   "source": [
    "def scope_test():\n",
    "    def do_local():\n",
    "        spam = \"local spam\"\n",
    "\n",
    "    def do_nonlocal():\n",
    "        nonlocal spam\n",
    "        spam = \"nonlocal spam\"\n",
    "\n",
    "    def do_global():\n",
    "        global spam\n",
    "        spam = \"global spam\"\n",
    "\n",
    "    spam = \"test spam\"\n",
    "    do_local()\n",
    "    print(\"After local assignment:\", spam)\n",
    "    do_nonlocal()\n",
    "    print(\"After nonlocal assignment:\", spam)\n",
    "    do_global()\n",
    "    print(\"After global assignment:\", spam)\n",
    "\n",
    "scope_test()\n",
    "print(\"In global scope:\", spam)"
   ]
  },
  {
   "cell_type": "markdown",
   "metadata": {},
   "source": [
    "# # EXERCISE 43: Basic Object-Oriented Analysis and Design"
   ]
  },
  {
   "cell_type": "code",
   "execution_count": 10,
   "metadata": {},
   "outputs": [
    {
     "ename": "IndentationError",
     "evalue": "expected an indented block (<ipython-input-10-1aebac14b3b2>, line 3)",
     "output_type": "error",
     "traceback": [
      "\u001b[1;36m  File \u001b[1;32m\"<ipython-input-10-1aebac14b3b2>\"\u001b[1;36m, line \u001b[1;32m3\u001b[0m\n\u001b[1;33m    scenes = {\u001b[0m\n\u001b[1;37m         ^\u001b[0m\n\u001b[1;31mIndentationError\u001b[0m\u001b[1;31m:\u001b[0m expected an indented block\n"
     ]
    }
   ],
   "source": [
    "class Map(object):\n",
    "\n",
    "scenes = {\n",
    "'central_corridor': CentralCorridor(),\n",
    "'laser_weapon_armory': LaserWeaponArmory(),\n",
    "'the_bridge': TheBridge(),\n",
    "'escape_pod': EscapePod(),\n",
    "'death': Death(),\n",
    "'finished': Finished(),\n",
    " }\n",
    "\n",
    "def __init__(self, start_scene):\n",
    "self.start_scene = start_scene\n",
    "\n",
    "def next_scene(self, scene_name):\n",
    "val = Map.scenes.get(scene_name)\n",
    "return val\n",
    "\n",
    "def opening_scene(self):\n",
    "return self.next_scene(self.start_scene)"
   ]
  },
  {
   "cell_type": "code",
   "execution_count": null,
   "metadata": {},
   "outputs": [],
   "source": []
  },
  {
   "cell_type": "code",
   "execution_count": null,
   "metadata": {},
   "outputs": [],
   "source": []
  }
 ],
 "metadata": {
  "kernelspec": {
   "display_name": "Python 3",
   "language": "python",
   "name": "python3"
  },
  "language_info": {
   "codemirror_mode": {
    "name": "ipython",
    "version": 3
   },
   "file_extension": ".py",
   "mimetype": "text/x-python",
   "name": "python",
   "nbconvert_exporter": "python",
   "pygments_lexer": "ipython3",
   "version": "3.7.3"
  }
 },
 "nbformat": 4,
 "nbformat_minor": 2
}
