{
 "cells": [
  {
   "cell_type": "code",
   "execution_count": 2,
   "metadata": {},
   "outputs": [
    {
     "name": "stdout",
     "output_type": "stream",
     "text": [
      "How many numbers do you want to introduce? 4\n",
      "Give me a number: 1\n",
      "Give me a number: 2\n",
      "Give me a number: 3\n",
      "Give me a number: 4\n",
      " percent that you want: 20\n",
      "numbers that remove is: 1\n",
      "numbers in order: [1, 2, 3, 4]\n",
      "result without the  : [2, 3]\n",
      "the sample mean is: 2.5\n"
     ]
    }
   ],
   "source": [
    "values = int(input(\"How many numbers do you want to introduce? \"))\n",
    "data = []\n",
    "total = 0\n",
    "for i in range(0,values):\n",
    "    x = int(input(\"Give me a number: \"))\n",
    "    data.append(x)\n",
    "trimmed = int(input(\" percent that you want: \"))\n",
    "trimmeds = trimmed * .01 \n",
    "percent= round(values * trimmeds)\n",
    "\n",
    "if percent <= 0.5:\n",
    "    percent = 0\n",
    "elif percent > 0.5:\n",
    "    percent = round(percent)\n",
    "print (\"numbers that remove is:\", percent)\n",
    "\n",
    "ind = sorted(data)\n",
    "print(\"numbers in order:\",ind)\n",
    "\n",
    "result = ind[percent:values - percent]\n",
    "print(\"result without the  :\",result)\n",
    "\n",
    "suma = sum(result)\n",
    "\n",
    "conte = len(result)\n",
    "\n",
    "sample_mean = float(suma/conte)\n",
    "\n",
    "print(\"the sample mean is:\", sample_mean)"
   ]
  },
  {
   "cell_type": "code",
   "execution_count": null,
   "metadata": {},
   "outputs": [],
   "source": []
  },
  {
   "cell_type": "code",
   "execution_count": null,
   "metadata": {},
   "outputs": [],
   "source": []
  }
 ],
 "metadata": {
  "kernelspec": {
   "display_name": "Python 3",
   "language": "python",
   "name": "python3"
  },
  "language_info": {
   "codemirror_mode": {
    "name": "ipython",
    "version": 3
   },
   "file_extension": ".py",
   "mimetype": "text/x-python",
   "name": "python",
   "nbconvert_exporter": "python",
   "pygments_lexer": "ipython3",
   "version": "3.7.3"
  }
 },
 "nbformat": 4,
 "nbformat_minor": 2
}
