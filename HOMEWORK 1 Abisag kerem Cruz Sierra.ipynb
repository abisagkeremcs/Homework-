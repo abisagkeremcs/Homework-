{
 "cells": [
  {
   "cell_type": "code",
   "execution_count": 18,
   "metadata": {
    "scrolled": true
   },
   "outputs": [
    {
     "name": "stdout",
     "output_type": "stream",
     "text": [
      " Cuantos datos quieres introducir? 4\n",
      " \n",
      "Escribe el dato:  1\n",
      "2\n",
      " Suma:  2.0\n",
      "Escribe el dato:  2\n",
      "2\n",
      " Suma:  4.0\n",
      "Escribe el dato:  3\n",
      "6\n",
      " Suma:  10.0\n",
      "Escribe el dato:  4\n",
      "5\n",
      " Suma:  15.0\n",
      "> what do you prefere, Simple Mean (1), Mode (2) and standard Deviation (3): \n",
      "> 2\n",
      " The mode is:  2.0\n"
     ]
    }
   ],
   "source": [
    "from collections import Counter\n",
    "import math\n",
    "\n",
    "datos = int(input(\" Cuantos datos quieres introducir? \"))\n",
    "n = datos\n",
    "lista = []\n",
    "suma = 0\n",
    "p = 1\n",
    "datos1 = datos\n",
    "n1 = 0\n",
    "a1 = 1\n",
    "datos11 = datos\n",
    "d = 0\n",
    "\n",
    "print(\" \")\n",
    "\n",
    "while datos >= 1:\n",
    "    \n",
    "    print(\"Escribe el dato: \" , p)\n",
    "    ind = float(input()) \n",
    "    lista.append(ind) ##este es un puente para meter datos a una lista\n",
    "    suma = ind + suma\n",
    "    p = p + 1\n",
    "    print(\" Suma: \" ,suma)\n",
    "    datos = datos - 1\n",
    "\n",
    "sample_mean = suma / n\n",
    "\n",
    "while datos1 >= 1:\n",
    "    n1 = n1 + (lista[a1 - 1] - sample_mean)\n",
    "    datos1 = datos1 - 1\n",
    "    a1 = a1 + 1\n",
    "\n",
    "m1 = n1 / datos11\n",
    "m11 = math.sqrt(m1)\n",
    "g1 =Counter(lista).most_common()[0][0]\n",
    "\n",
    "print(\"> what do you prefere, Simple Mean (1), Mode (2) and standard Deviation (3): \")\n",
    "while d== 0:\n",
    "    o = float(input(\"> \"))\n",
    "    if o == 1:\n",
    "        print(\" The simple mean is: \" , sample_mean)\n",
    "        d = 1\n",
    "    elif o == 2:\n",
    "        print(\" The mode is: \" , g1)\n",
    "        d = 1\n",
    "    elif o == 3:\n",
    "        print(\" standart deviation: \" , m11)\n",
    "        d = 1"
   ]
  },
  {
   "cell_type": "markdown",
   "metadata": {},
   "source": []
  },
  {
   "cell_type": "code",
   "execution_count": null,
   "metadata": {},
   "outputs": [],
   "source": []
  }
 ],
 "metadata": {
  "kernelspec": {
   "display_name": "Python 3",
   "language": "python",
   "name": "python3"
  },
  "language_info": {
   "codemirror_mode": {
    "name": "ipython",
    "version": 3
   },
   "file_extension": ".py",
   "mimetype": "text/x-python",
   "name": "python",
   "nbconvert_exporter": "python",
   "pygments_lexer": "ipython3",
   "version": "3.7.3"
  }
 },
 "nbformat": 4,
 "nbformat_minor": 2
}
